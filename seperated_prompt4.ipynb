{
  "cells": [
    {
      "cell_type": "code",
      "source": [
        "from google.colab import drive\n",
        "drive.mount('/content/drive')"
      ],
      "metadata": {
        "colab": {
          "base_uri": "https://localhost:8080/"
        },
        "id": "jvrlYcSaL700",
        "outputId": "9c2ad31e-c811-4ac6-ccdb-217bbb424cae"
      },
      "execution_count": 14,
      "outputs": [
        {
          "output_type": "stream",
          "name": "stdout",
          "text": [
            "Drive already mounted at /content/drive; to attempt to forcibly remount, call drive.mount(\"/content/drive\", force_remount=True).\n"
          ]
        }
      ]
    },
    {
      "cell_type": "markdown",
      "source": [],
      "metadata": {
        "id": "fDc9AEML0FRS"
      }
    },
    {
      "cell_type": "code",
      "execution_count": 15,
      "metadata": {
        "colab": {
          "base_uri": "https://localhost:8080/"
        },
        "id": "Rt3-RHdIcxkV",
        "outputId": "3c290e62-6907-4211-b7d0-021130210d75"
      },
      "outputs": [
        {
          "output_type": "stream",
          "name": "stdout",
          "text": [
            "/content/drive/.shortcut-targets-by-id/1MN2rcVWM2WfSxSJ3QwgKxthglKH5urDU/QA Project\n"
          ]
        }
      ],
      "source": [
        "#%cd /content/drive/MyDrive/Mollaei Uni Chicago/QA Project\n",
        "%cd /content/drive/MyDrive/QA Project"
      ]
    },
    {
      "cell_type": "code",
      "execution_count": 16,
      "metadata": {
        "id": "GCog0FvKZrDm"
      },
      "outputs": [],
      "source": [
        "from transformers import AutoTokenizer, AutoModelForCausalLM\n",
        "import warnings\n",
        "warnings.filterwarnings('ignore')"
      ]
    },
    {
      "cell_type": "code",
      "execution_count": 17,
      "metadata": {
        "colab": {
          "base_uri": "https://localhost:8080/"
        },
        "id": "Cn3T7KVPzVz7",
        "outputId": "640165a5-424f-449c-b613-12aded1dba26"
      },
      "outputs": [
        {
          "output_type": "stream",
          "name": "stdout",
          "text": [
            "GPU not found. Using CPU: cpu\n"
          ]
        }
      ],
      "source": [
        "import torch\n",
        "\n",
        "# Check for GPU availability and set device\n",
        "if torch.cuda.is_available():\n",
        "    device = torch.device('cuda:0')\n",
        "    print(\"GPU is available! Using\", device)\n",
        "else:\n",
        "    device = torch.device('cpu')\n",
        "    print(\"GPU not found. Using CPU:\", device)"
      ]
    },
    {
      "cell_type": "code",
      "execution_count": 18,
      "metadata": {
        "id": "o5ZC1C8C6ocC"
      },
      "outputs": [],
      "source": [
        "%%capture\n",
        "# Load model and tokenizer from Transformers library\n",
        "from transformers import AutoTokenizer, AutoModelForCausalLM\n",
        "\n",
        "model_path = \"togethercomputer/LLaMA-2-7B-32K\"  # Replace with your model path\n",
        "tokenizer = AutoTokenizer.from_pretrained(model_path)\n",
        "model = AutoModelForCausalLM.from_pretrained(model_path) # Add \"device_map=device\" to use GPU"
      ]
    },
    {
      "cell_type": "code",
      "execution_count": 19,
      "metadata": {
        "id": "oOKFNFa96ImM"
      },
      "outputs": [],
      "source": [
        "device = torch.device('cpu')\n",
        "#CMMENT KON INO"
      ]
    },
    {
      "cell_type": "code",
      "execution_count": 20,
      "metadata": {
        "id": "Uph3e3xm8ZgP"
      },
      "outputs": [],
      "source": [
        "# Move model to GPU (if available)\n",
        "model = model.to(device)"
      ]
    },
    {
      "cell_type": "code",
      "execution_count": 21,
      "metadata": {
        "id": "LQEHBul-4I6v"
      },
      "outputs": [],
      "source": [
        "import os\n",
        "\n",
        "directory_path = \"notes\"\n",
        "files_list = os.listdir(directory_path)"
      ]
    },
    {
      "cell_type": "code",
      "execution_count": 22,
      "metadata": {
        "id": "7lL0vKUU4anl"
      },
      "outputs": [],
      "source": [
        "files_names = ['_']\n",
        "for i in range(len(files_list)):\n",
        "    for file_name in files_list:\n",
        "        if file_name.split('_')[0] == str(i+1):\n",
        "            files_names.append(file_name)"
      ]
    },
    {
      "cell_type": "code",
      "execution_count": 23,
      "metadata": {
        "colab": {
          "base_uri": "https://localhost:8080/"
        },
        "id": "srVHnpLQ4cNi",
        "outputId": "67dc76d3-bdd3-41fe-cd2e-dca476910e8d"
      },
      "outputs": [
        {
          "output_type": "execute_result",
          "data": {
            "text/plain": [
              "['_',\n",
              " '1_17892886-DS-22_20001699.txt',\n",
              " '2_10160622-DS-24_20002800.txt',\n",
              " '3_16934201-DS-22_20005361.txt',\n",
              " '4_17055745-DS-8_20005666.txt']"
            ]
          },
          "metadata": {},
          "execution_count": 23
        }
      ],
      "source": [
        "files_names[:5]"
      ]
    },
    {
      "cell_type": "code",
      "source": [
        "file_prompt = {\n",
        "    'var1':{\n",
        "        \"criterion\" : \"Permanent, paroxysmal, or persistent atrial fibrillation\",\n",
        "        \"answers\": '',\n",
        "        \"type\": 'bool',\n",
        "        \"prompt\": \"do you find any indication of permanent, paroxysmal, or persistent atrial fibrillation (afib)? \"\n",
        "        },\n",
        "    'var2':{\n",
        "        \"criterion\" : \"CHADS2 Score\",\n",
        "        \"answers\": '',\n",
        "        \"type\": 'numeric',\n",
        "        \"prompt\": \"can you find any calculated the CHADS2 score based on the provided information? \"\n",
        "        },\n",
        "    'var3':{\n",
        "        \"criterion\" : \"Prior stroke or transient ischemic attack\",\n",
        "        \"answers\": '',\n",
        "        \"type\": 'bool',\n",
        "        \"prompt\": \"can you determine if there is any mention of a prior stroke or transient ischemic attack (TIA) in the provided information?\"\n",
        "        },\n",
        "    'var4':{\n",
        "        \"criterion\" : \"Arterial hypertension on treatment\",\n",
        "        \"answers\": '',\n",
        "        \"type\": 'bool',\n",
        "        \"prompt\": \"is there evidence of arterial hypertension being treated, defined as blood pressure being controlled (e.g., >140 mmHg)?\"\n",
        "        },\n",
        "    'var5':{\n",
        "        \"criterion\" : \"Diabetes mellitus (DM1, DM2, T2D, T1DM, T2DM)\",\n",
        "        \"answers\": '',\n",
        "        \"type\": 'bool',\n",
        "        \"prompt\": \"is there any indication of diabetes mellitus (DM1, DM2, T2D, T1DM, T2DM)?\"\n",
        "        },\n",
        "    'var6':{\n",
        "        \"criterion\" : \"Max Blood Glucose\",\n",
        "        \"answers\": '',\n",
        "        \"type\": 'numeric',\n",
        "        \"prompt\": \"What is the maximum recorded blood glucose level?\"\n",
        "        },\n",
        "    'var7':{\n",
        "        \"criterion\" : \"Max A1c\",\n",
        "        \"answers\": '',\n",
        "        \"type\": 'numeric',\n",
        "        \"prompt\": \"What is the maximum recorded A1c level?\"\n",
        "        },\n",
        "    'var8':{\n",
        "        \"criterion\" : \"Heart Failure\",\n",
        "        \"answers\": '',\n",
        "        \"type\": 'bool',\n",
        "        \"prompt\": \"can you determine if there is any mention of Heart Failure in the provided information?\"\n",
        "        },\n",
        "    'var9':{\n",
        "        \"criterion\" : \"Left ventricular ejection fraction (lowest mentioned, LVEF, ef, ejection fraction)\",\n",
        "        \"answers\": '',\n",
        "        \"type\": 'float',\n",
        "        \"prompt\": \"could you please provide the left ventricular ejection fraction (LVEF) mentioned in the notes?\"\n",
        "        },\n",
        "    'var10':{\n",
        "        \"criterion\" : \"Valvular disease requiring or past surgery (stenosis)\",\n",
        "        \"answers\": '',\n",
        "        \"type\": 'bool',\n",
        "        \"prompt\": \"could you please determine if there is any mention of valvular disease requiring surgery or past surgery, particularly for stenosis?\"\n",
        "        },\n",
        "    'var11':{\n",
        "        \"criterion\" : \"Planned or past ablation procedure for afib\",\n",
        "        \"answers\": '',\n",
        "        \"type\": 'bool',\n",
        "        \"prompt\": \"Is there any mention of a planned or past ablation procedure for atrial fibrillation (afib)?\"\n",
        "        },\n",
        "    'var12':{\n",
        "        \"criterion\" : \"Serious bleeding in last 6 months\",\n",
        "        \"answers\": '',\n",
        "        \"type\": 'bool',\n",
        "        \"prompt\": \"Is there any mention of serious bleeding occurring in the last 6 months?\"\n",
        "        },\n",
        "    'var13':{\n",
        "        \"criterion\" : \"History Peptic Ulcer Diseasek\",\n",
        "        \"answers\": '',\n",
        "        \"type\": 'bool',\n",
        "        \"prompt\": \"can you determine if  there is any documented history of peptic ulcer disease in the provided information?\"\n",
        "        },\n",
        "    'var14':{\n",
        "        \"criterion\" : \"Minimum observed platelet count (PLT)\",\n",
        "        \"answers\": '',\n",
        "        \"type\": 'numeric',\n",
        "        \"prompt\": \"What is the minimum observed platelet (PLT) count?\"\n",
        "        },\n",
        "    'var15':{\n",
        "        \"criterion\" : \"Minimum observed hemoglobin (HGB)\",\n",
        "        \"answers\": '',\n",
        "        \"type\": 'numeric',\n",
        "        \"prompt\": \"How many is the minimum observed hemoglobin (HGB)?\"\n",
        "        },\n",
        "    'var16':{\n",
        "        \"criterion\" : \"Stroke during admission or 10 days prior (Flag if recent, not clear 10 days)\",\n",
        "        \"answers\": '',\n",
        "        \"type\": 'bool',\n",
        "        \"prompt\": \"Was there any occurrence of stroke during the patient's admission or within 10 days prior to admission?\"\n",
        "        },\n",
        "    'var17':{\n",
        "        \"criterion\" : \"Documented hemorrhagic tendencies or blood dyscrasias\",\n",
        "        \"answers\": '',\n",
        "        \"type\": 'bool',\n",
        "        \"prompt\": \"Is there any documented evidence of hemorrhagic tendencies or blood dyscrasias in the patient's medical history?\"\n",
        "        },\n",
        "    'var18':{\n",
        "        \"criterion\" : \"Alcohol abuse\",\n",
        "        \"answers\": '',\n",
        "        \"type\": 'bool',\n",
        "        \"prompt\": \"Is there any documented of alcohol abuse in patient's medical history?\"\n",
        "        },\n",
        "    'var19':{\n",
        "        \"criterion\" : \"Drug abuse\",\n",
        "        \"answers\": '',\n",
        "        \"type\": 'bool',\n",
        "        \"prompt\": \"Is there any documented of drug abuse in patient's medical history?\"\n",
        "        },\n",
        "    'var20':{\n",
        "        \"criterion\" : \"max serum creatine (Creat)\",\n",
        "        \"answers\": '',\n",
        "        \"type\": 'numeric',\n",
        "        \"prompt\": \"What is the maximum observed level of serum creatinine (Creat) for the patient?\"\n",
        "        },\n",
        "    'var21':{\n",
        "        \"criterion\" : \"max aspartate aminotransferase level (AST)\",\n",
        "        \"answers\": '',\n",
        "        \"type\": 'numeric',\n",
        "        \"prompt\": \"What is the maximum observed aspartate aminotransferase (AST) level for the patient?\"\n",
        "        },\n",
        "    'var22':{\n",
        "        \"criterion\" : \"max total bilirubin (TotBili, Bili)\",\n",
        "        \"answers\": '',\n",
        "        \"type\": 'numeric',\n",
        "        \"prompt\": \"What is the maximum observed level of total bilirubin (TotBili, Bili) for the patient?\"\n",
        "        },\n",
        "    'var23':{\n",
        "        \"criterion\" : \"Bipolar\",\n",
        "        \"answers\": '',\n",
        "        \"type\": 'bool',\n",
        "        \"prompt\": \"Is there any documentation of bipolar disorder for the patient?\"\n",
        "        },\n",
        "    'var24':{\n",
        "        \"criterion\" : \"Schizophrenic\",\n",
        "        \"answers\": '',\n",
        "        \"type\": 'bool',\n",
        "        \"prompt\": \"Is there any documentation of schizophrenia in patient's medical records?\"\n",
        "        },\n",
        "    'var25':{\n",
        "        \"criterion\" : \"Major depressive disorder / Depression\",\n",
        "        \"answers\": '',\n",
        "        \"type\": 'bool',\n",
        "        \"prompt\": \"Is there any documentation of major depressive disorder or depression?\"\n",
        "        },\n",
        "    'var26':{\n",
        "        \"criterion\" : \"Inability to make medical decisions (Discharged - mental status / consciousness)\",\n",
        "        \"answers\": '',\n",
        "        \"type\": 'bool',\n",
        "        \"prompt\": \"Was there any documentation indicating the patient's inability to make medical decisions upon discharge, possibly due to altered mental status or consciousness?\"\n",
        "        }\n",
        "}\n"
      ],
      "metadata": {
        "id": "rt3idyGZe_gr"
      },
      "execution_count": 24,
      "outputs": []
    },
    {
      "cell_type": "code",
      "execution_count": null,
      "metadata": {
        "id": "NIEMv2uPKavW",
        "colab": {
          "base_uri": "https://localhost:8080/"
        },
        "outputId": "cba38814-a783-42b8-aa10-f40b36900ed1"
      },
      "outputs": [
        {
          "output_type": "stream",
          "name": "stdout",
          "text": [
            "Yes\n",
            "CHADS\n",
            "Yes\n",
            "Yes\n",
            "Yes\n",
            "Yes\n",
            "Yes\n",
            "Yes\n",
            "Yes\n",
            "Yes\n",
            "Yes\n",
            "Yes\n",
            "Yes\n",
            "Yes\n",
            "Yes\n",
            "Yes\n",
            "Yes\n",
            "Yes\n",
            "Drug ab\n",
            "Yes\n",
            "Yes\n",
            "Yes\n",
            "Yes\n"
          ]
        }
      ],
      "source": [
        "llama_response_note1 = []\n",
        "\n",
        "with open('notes/' + files_names[1], 'r') as file:\n",
        "    note = file.read()\n",
        "\n",
        "# print(note)\n",
        "# print(\"*********************************************************************\")\n",
        "for i in range(1, 27):\n",
        "    temp = file_prompt['var'+str(i)]['criterion']\n",
        "    # print(temp)\n",
        "    # print(\"*********************************************************************\")\n",
        "\n",
        "    llama_prompt = f\"\"\"\\\n",
        "Below in section \"CONTEXT\" we provide a clinical note and the health status of a patient has been checked in with different criterions.\n",
        "My question is, does the '{temp}' criterion exist in the \"CONTEXT\" or not? Answer with 'Yes' or 'No'.\n",
        "---------------------\n",
        "CONTEXT:\n",
        "{note}\n",
        "---------------------\n",
        "YOUR RESPONSE:\n",
        "\"\"\"\n",
        "\n",
        "    # print(llama_prompt)\n",
        "    # print(\"*********************************************************************\")\n",
        "\n",
        "    input_ids = tokenizer.encode(llama_prompt, return_tensors=\"pt\")\n",
        "    #input_ids = tokenizer.encode(llama_prompt, return_tensors=\"pt\").to(device)\n",
        "    answer = model.generate(input_ids, temperature=0.07, max_new_tokens=3)\n",
        "    decoded_answer = tokenizer.decode(answer[0], skip_special_tokens=True)\n",
        "\n",
        "    # print(decoded_answer)\n",
        "    # print(\"*********************************************************************\")\n",
        "\n",
        "    final_answer = decoded_answer.split('YOUR RESPONSE:')[1].strip()\n",
        "    print(final_answer)\n",
        "\n",
        "    llama_response_note1.append(final_answer)\n"
      ]
    },
    {
      "cell_type": "code",
      "execution_count": null,
      "metadata": {
        "id": "DtGo5PmZZZY3"
      },
      "outputs": [],
      "source": [
        "llama_response_note1"
      ]
    },
    {
      "cell_type": "code",
      "source": [
        "print(decoded_answer)"
      ],
      "metadata": {
        "id": "7_Ih8Wftkus6"
      },
      "execution_count": null,
      "outputs": []
    }
  ],
  "metadata": {
    "accelerator": "TPU",
    "colab": {
      "machine_shape": "hm",
      "provenance": [],
      "gpuType": "V28"
    },
    "kernelspec": {
      "display_name": "Python 3",
      "name": "python3"
    },
    "language_info": {
      "name": "python"
    }
  },
  "nbformat": 4,
  "nbformat_minor": 0
}