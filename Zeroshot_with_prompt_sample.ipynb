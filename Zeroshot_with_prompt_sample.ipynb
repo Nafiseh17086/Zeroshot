{
  "nbformat": 4,
  "nbformat_minor": 0,
  "metadata": {
    "colab": {
      "provenance": [],
      "machine_shape": "hm",
      "gpuType": "V100"
    },
    "kernelspec": {
      "name": "python3",
      "display_name": "Python 3"
    },
    "language_info": {
      "name": "python"
    },
    "accelerator": "GPU"
  },
  "cells": [
    {
      "cell_type": "code",
      "source": [
        "from google.colab import drive\n",
        "drive.mount('/content/drive')"
      ],
      "metadata": {
        "id": "O-7Ks--eaIzz",
        "colab": {
          "base_uri": "https://localhost:8080/"
        },
        "outputId": "1bc1f298-064e-46c7-bf48-9f603bd62cb0"
      },
      "execution_count": null,
      "outputs": [
        {
          "output_type": "stream",
          "name": "stdout",
          "text": [
            "Drive already mounted at /content/drive; to attempt to forcibly remount, call drive.mount(\"/content/drive\", force_remount=True).\n"
          ]
        }
      ]
    },
    {
      "cell_type": "code",
      "source": [
        "# %%capture\n",
        "# !pip install accelerate"
      ],
      "metadata": {
        "id": "rbnnt3iHGXGA"
      },
      "execution_count": null,
      "outputs": []
    },
    {
      "cell_type": "code",
      "source": [
        "%cd /content/drive/MyDrive/QA Project"
      ],
      "metadata": {
        "colab": {
          "base_uri": "https://localhost:8080/"
        },
        "id": "Rt3-RHdIcxkV",
        "outputId": "4a04595b-7bec-4a8d-89f7-318769b7074f"
      },
      "execution_count": null,
      "outputs": [
        {
          "output_type": "stream",
          "name": "stdout",
          "text": [
            "/content/drive/.shortcut-targets-by-id/1MN2rcVWM2WfSxSJ3QwgKxthglKH5urDU/QA Project\n"
          ]
        }
      ]
    },
    {
      "cell_type": "code",
      "source": [
        "from transformers import AutoTokenizer, AutoModelForCausalLM\n",
        "import warnings\n",
        "warnings.filterwarnings('ignore')"
      ],
      "metadata": {
        "id": "GCog0FvKZrDm"
      },
      "execution_count": null,
      "outputs": []
    },
    {
      "cell_type": "code",
      "source": [
        "# device = torch.device(\"cuda\" if torch.cuda.is_available() else \"cpu\")"
      ],
      "metadata": {
        "id": "6iFoyrVdSnix"
      },
      "execution_count": null,
      "outputs": []
    },
    {
      "cell_type": "code",
      "source": [
        "import torch\n",
        "\n",
        "# Check for GPU availability and set device\n",
        "if torch.cuda.is_available():\n",
        "    device = torch.device('cuda:0')\n",
        "    print(\"GPU is available! Using\", device)\n",
        "else:\n",
        "    device = torch.device('cpu')\n",
        "    print(\"GPU not found. Using CPU:\", device)"
      ],
      "metadata": {
        "colab": {
          "base_uri": "https://localhost:8080/"
        },
        "id": "Cn3T7KVPzVz7",
        "outputId": "7757b168-2a5e-4900-d150-fe4cdce8ecd1"
      },
      "execution_count": null,
      "outputs": [
        {
          "output_type": "stream",
          "name": "stdout",
          "text": [
            "GPU is available! Using cuda:0\n"
          ]
        }
      ]
    },
    {
      "cell_type": "code",
      "source": [
        "%%capture\n",
        "# Load model and tokenizer from Transformers library\n",
        "from transformers import AutoTokenizer, AutoModelForCausalLM\n",
        "\n",
        "model_path = \"togethercomputer/LLaMA-2-7B-32K\"  # Replace with your model path\n",
        "tokenizer = AutoTokenizer.from_pretrained(model_path)\n",
        "model = AutoModelForCausalLM.from_pretrained(model_path) # Add \"device_map=device\" to use GPU"
      ],
      "metadata": {
        "id": "o5ZC1C8C6ocC"
      },
      "execution_count": null,
      "outputs": []
    },
    {
      "cell_type": "code",
      "source": [
        "device = torch.device('cpu')"
      ],
      "metadata": {
        "id": "oOKFNFa96ImM"
      },
      "execution_count": null,
      "outputs": []
    },
    {
      "cell_type": "code",
      "source": [
        "# Move model to GPU (if available)\n",
        "model = model.to(device)"
      ],
      "metadata": {
        "id": "Uph3e3xm8ZgP"
      },
      "execution_count": null,
      "outputs": []
    },
    {
      "cell_type": "code",
      "source": [
        "#  def question_answer(context1):\n",
        "#     # Define your context and question\n",
        "#     input_text = context1\n",
        "\n",
        "#     # Encode the context using the tokenizer and move it to the GPU\n",
        "#     input_ids = tokenizer.encode(input_text, return_tensors=\"pt\")\n",
        "\n",
        "#     # Generate text using the model, providing both context and question\n",
        "#     answer = model.generate(input_ids, temperature=0.07, max_new_tokens=5)\n",
        "\n",
        "#     # Decode the generated answer and remove special tokens\n",
        "#     decoded_answer = tokenizer.decode(answer[0], skip_special_tokens=True)\n",
        "\n",
        "#     final_answer = decoded_answer.split('your answer:')[1].strip()\n",
        "#     # Print the final answer\n",
        "#     print(final_answer)"
      ],
      "metadata": {
        "id": "7vwBWyja7q5H"
      },
      "execution_count": null,
      "outputs": []
    },
    {
      "cell_type": "code",
      "source": [
        "# input_context = \"Context: My full name is nafiseh mollaei.\"\n",
        "# question = \"\\n Question: What is my first name?\"\n",
        "\n",
        "# context2 = f\"{input_context} {question} \\nyour answer:\"\n",
        "\n",
        "# question_answer(context2)"
      ],
      "metadata": {
        "colab": {
          "base_uri": "https://localhost:8080/"
        },
        "id": "s7iKzRpM3ESF",
        "outputId": "5e04ee13-d637-41fd-d57a-abc52988f4fd"
      },
      "execution_count": null,
      "outputs": [
        {
          "output_type": "stream",
          "name": "stdout",
          "text": [
            "Nafiseh\n"
          ]
        }
      ]
    },
    {
      "cell_type": "code",
      "source": [
        "import os\n",
        "\n",
        "directory_path = \"/content/drive/MyDrive/QA Project/notes\"\n",
        "files_list = os.listdir(directory_path)"
      ],
      "metadata": {
        "id": "LQEHBul-4I6v"
      },
      "execution_count": null,
      "outputs": []
    },
    {
      "cell_type": "code",
      "source": [
        "files_names = ['_']\n",
        "for i in range(len(files_list)):\n",
        "    for file_name in files_list:\n",
        "        if file_name.split('_')[0] == str(i+1):\n",
        "            files_names.append(file_name)"
      ],
      "metadata": {
        "id": "7lL0vKUU4anl"
      },
      "execution_count": null,
      "outputs": []
    },
    {
      "cell_type": "code",
      "source": [
        "files_names[:5]"
      ],
      "metadata": {
        "colab": {
          "base_uri": "https://localhost:8080/"
        },
        "id": "srVHnpLQ4cNi",
        "outputId": "9436fe68-6ff4-44e4-e5cc-bafdb4c34e1a"
      },
      "execution_count": null,
      "outputs": [
        {
          "output_type": "execute_result",
          "data": {
            "text/plain": [
              "['_',\n",
              " '1_17892886-DS-22_20001699.txt',\n",
              " '2_10160622-DS-24_20002800.txt',\n",
              " '3_16934201-DS-22_20005361.txt',\n",
              " '4_17055745-DS-8_20005666.txt']"
            ]
          },
          "metadata": {},
          "execution_count": 13
        }
      ]
    },
    {
      "cell_type": "code",
      "source": [
        "%cd /content/drive/MyDrive/QA Project/notes"
      ],
      "metadata": {
        "colab": {
          "base_uri": "https://localhost:8080/"
        },
        "id": "NZGkrIjd4tHz",
        "outputId": "595152f3-7bf4-4285-949b-5d9bcca8cb79"
      },
      "execution_count": null,
      "outputs": [
        {
          "output_type": "stream",
          "name": "stdout",
          "text": [
            "/content/drive/.shortcut-targets-by-id/1MN2rcVWM2WfSxSJ3QwgKxthglKH5urDU/QA Project/notes\n"
          ]
        }
      ]
    },
    {
      "cell_type": "code",
      "source": [
        "with open(files_names[1], 'r') as file:\n",
        "    file_content = file.read()"
      ],
      "metadata": {
        "id": "qHEI7Ivp31u2"
      },
      "execution_count": null,
      "outputs": []
    },
    {
      "cell_type": "code",
      "source": [
        "file_content"
      ],
      "metadata": {
        "colab": {
          "base_uri": "https://localhost:8080/",
          "height": 157
        },
        "id": "p398UrFs46Z6",
        "outputId": "dc5fecd0-f2e8-438b-a2d3-26b481df2cf4"
      },
      "execution_count": null,
      "outputs": [
        {
          "output_type": "execute_result",
          "data": {
            "text/plain": [
              "\" \\nName:  ___                Unit No:   ___\\n \\nAdmission Date:  ___              Discharge Date:   ___\\n \\nDate of Birth:  ___             Sex:   F\\n \\nService: MEDICINE\\n \\nAllergies: \\nmorphine\\n \\nAttending: ___.\\n \\nChief Complaint:\\nAbdominal Pain\\n\\n \\nMajor Surgical or Invasive Procedure:\\n___ feeding tube removal ___\\n___ feeding tube placement ___\\nLLQ RSB Nerve Block ___\\n\\n \\nHistory of Present Illness:\\n___ yo female with a history of small cell lung cancer and\\npancreatic cancer who is admitted with abdominal pain. The\\npatient's pain is mostly in the LLQ. The pain is unchanged in\\nnature or location for months but the severity is worsening. She\\nhas pain with any movement and is unable to most anything now.\\nShe does have nausea at times which may be related to \\nmedications\\nbut does not have any currently. She has been not been eating\\nanything, mainly due to lack of appetite and due to the pain and\\nintermittent nausea. She has been hospitalized previously with\\nthe same pain and has been following regularly with palliative\\ncare as an outpatient with no true improvement and without a\\ndefinitive cause. She has previously had CT scans without a\\ncause. At times her pain was thought to possibly related to\\nconstipation but she is now moving her bowels daily now that she\\nhas started movantik and the pain is overall worse. She has been\\non long acting and as needed dilaudid prescribed by palliative\\ncare that has been unable to control her pain. She has also been\\ntrialed on reglan and baclofen without improvement and \\npreviously\\nhad tried numerous other medications. She denies any changes to\\nthe location of the pain and denies any other new symptoms. She\\nwas seen in the palliative care clinic today and given the\\nseverity of her pain it was decided to admit her for pain\\ncontrol. She was given IV dilaudid and diazepam in clinic.\\n\\nREVIEW OF SYSTEMS:\\n- All reviewed and negative except as noted in the HPI.\\n\\n \\nPast Medical History:\\nPAST ONCOLOGIC HISTORY (per OMR):\\n- Small cell lung cancer, extensive stage and Pancreatic\\nadenocarcinoma\\n- ___: Presented to BI-M with obstructive jaundice, imaging\\nraised concern for ampullary or pancreatic head mass\\n- ___: Transferred to ___ with ERCP showing irregular\\nstricture in the distal CBD, stent placed in the CBD\\n- ___: CT angio showed diffuse edema around pancreatic head,\\nno mass lesion identified\\n- ___: EUS identified 2cm pancreatic head mass, FNA + for\\nadenocarcinoma\\n- ___: started neoadjuvant gem/abraxane.  Due to\\ncytopenias during cycle 1 necessitating treatment holds, she\\ntransitioned to a day 1, day 15 schedule and completed three\\ncycles of neoadjuvant therapy as of ___.\\n- ___: CK SBRT \\n- ___: Underwent surgical resection. Pathology showed\\nmicroscopic foci of pancreatic head adenocarcinoma with ___\\nlymph nodes inolved, presence of perineural and lymphovascular\\ninvasion, nearest margin <1mm, ypT3N0Mx stage IIA.\\n- ___:  Resumed adjuvant gemcitabine\\n- ___: completed six cycles gemcitabine\\n- ___: CT chest revealed lung nodules\\n- ___: CT chest showed new small lung nodule and interval\\ngrowth of similar size small lung nodules as well as slight\\ninterval growth of mediastinal lymph nodes \\n- ___: Underwent LUL lung biopsy showing high grade\\nneuroendocrine carcinoma consistent with small cell\\ncarcinoma.\\n-___: ___ C1D1  \\n-___: ___ C2D1\\n-___: ___ C3D1\\n-___: ___ C4D1\\n-___: received 3500 cGy radition (14 fractions)\\n-___: CT with growing bilateral lung nodules\\n- ___: C1 Nivolumab\\n\\n \\nSocial History:\\n___\\nFamily History:\\nThe patient's mother died with tobacco-associated lung cancer at\\n___ years.  Two maternal aunts were treated for breast cancer in\\ntheir ___.  A maternal grandfather had colon cancer in his ___. \\nHer daughter was treated for cervical or uterine cancer at ___\\nyears.  She has no siblings.\\n\\n \\nPhysical Exam:\\nADMISSION PHYSICAL EXAM:\\nGeneral:  NAD\\nVITAL SIGNS: Temp: 97.9 BP: 157/94 HR: 78 RR: 18 O2 sat: 96% RA \\nHEENT:  MMM, no OP lesions\\nCV:  RR, NL S1S2\\nPULM:  CTAB\\nABD:  Soft, Tenderness to palpation LLQ, ND, no masses or\\nhepatosplenomegaly\\nLIMBS:  No edema, clubbing, tremors, or asterixis\\nSKIN:  No rashes or skin breakdown\\nNEURO: Alert and oriented, no focal deficits.\\n\\nPHYSICAL EXAM:\\nT 97.8 BP 108/73 HR 103 RR 18 O2 100%RA\\nGENERAL: Thin and frail appearing lady, laying in bed curled up\\non her right side. No apparent distress\\nHEENT: Anicteric, PERLL, Mucous membranes dry, oropharynx clear.\\nCARDIAC: Regular rate and rhythm, no murmurs, rubs or gallops.\\nLUNG: Appears in no respiratory distress, clear to auscultation\\nbilaterally, no crackles, wheezes, or rhonchi.\\nABD: Scaphoid, non-distended, normal bowel sounds, soft, tender\\nto minimal palpation in LLQ, but no guarding or rebound\\nEXT: Warm, well perfused. No lower extremity edema. No erythema\\nor tenderness.\\nNEURO: Alert and oriented x3, good attention and linear thought\\nprocess Moves all extremities equally. \\nSKIN: No significant rashes. \\n \\nPertinent Results:\\nADMISSION LABS:\\n===============\\n\\n___ 03:00PM BLOOD WBC-6.7 RBC-3.92 Hgb-10.6* Hct-32.8* \\nMCV-84 MCH-27.0 MCHC-32.3 RDW-16.5* RDWSD-50.5* Plt ___\\n___ 03:00PM BLOOD Plt ___\\n___ 03:00PM BLOOD Glucose-92 UreaN-8 Creat-0.7 Na-137 K-4.2 \\nCl-95* HCO3-25 AnGap-17\\n___ 03:00PM BLOOD ALT-39 AST-31 AlkPhos-221* TotBili-0.3\\n___ 07:00AM BLOOD Phos-4.0 Mg-1.9\\n___ 03:00PM BLOOD Calcium-8.9\\n\\nDISCHARGE LABS:\\n===============\\n\\n___ 05:47AM BLOOD WBC-8.1 RBC-3.09* Hgb-8.3* Hct-26.3* \\nMCV-85 MCH-26.9 MCHC-31.6* RDW-16.7* RDWSD-51.8* Plt ___\\n___ 05:47AM BLOOD Glucose-106* UreaN-13 Creat-0.4 Na-136 \\nK-4.6 Cl-97 HCO3-26 AnGap-13\\n___ 05:10AM BLOOD ALT-26 AST-25 LD(LDH)-168 AlkPhos-183* \\nTotBili-0.2\\n___ 05:47AM BLOOD Calcium-8.5 Phos-3.2 Mg-2.0\\n___ 12:37AM BLOOD TSH-1.8\\n\\nMICRO:\\n___ STOOL C. difficile DNA amplification \\nassay-Negative \\n___ URINE URINE CULTURE-FINAL No growth\\n___ BLOOD CULTURE Blood Culture, Routine-FINAL \\nINPATIENT \\n___ URINE URINE CULTURE-FINAL Mixed Flora\\n___ BLOOD CULTURE Blood Culture, Routine-FINAL \\nINPATIENT \\n\\nOTHER LABS:\\n===========\\n___ 05:01AM BLOOD Digoxin-0.6\\n___ 05:05AM BLOOD Digoxin-0.4*\\n___ 04:30AM BLOOD Digoxin-<0.4*\\n___ 05:21AM BLOOD Digoxin-1.2\\n___ 05:51AM BLOOD Digoxin-1.0\\n___ 05:53AM BLOOD Digoxin-0.7\\n\\n___ 01:18AM URINE Color-Straw Appear-Clear Sp ___\\n___ 01:18AM URINE Blood-NEG Nitrite-NEG Protein-NEG \\nGlucose-NEG Ketone-NEG Bilirub-NEG Urobiln-NEG pH-7.0 Leuks-NEG\\n\\nPERTINENT IMAGING:\\n==================\\n___HEST W/CONTRAST \\n1. Evidence of aspiration +/- aspiration pneumonia, most\\nprominent in the right upper lobe posterior segment and right\\nlower lobe posterior and lateral basal segments. \\n2. Right lower lobe pulmonary nodules have increased in size\\nsince ___. Most other pulmonary nodules are unchanged.\\nFew new pulmonary nodules could reflect the ongoing acute \\nprocess\\ndescribed above. \\n3. Moderate centrilobular emphysema. \\n\\n___BD & PELVIS WITH CO \\n1. Markedly hyperattenuating material in the dependent portion \\nof the mid ascending colon could reflect extravasation of \\nintravascular contrast material. Recommend correlation with \\nurinalysis and symptoms of hematochezia or melena. \\n2. Evidence of abdominopelvic metastasis progression including a \\nnew 1.4 cm L3 vertebral body lesion, enlarged and new hepatic \\nlesions, an enlarged retroperitoneal lymphadenopathy. \\n3. Right and probably left adnexal cysts are not appreciably \\nchanged since at least ___. This could be further assessed \\nwith nonemergent pelvic ultrasound or MRI, noting that the \\novaries were not visualized on pelvic ultrasound obtained \\n___. \\n4. Prominent left ovarian and uterine veins raising the \\npossibility of chronic pelvic congestion. \\n\\n___ Cardiovascular ECHO \\nNormal biventricular chamber size and systolic function. No \\npathologic valvular flow. Sinus rhythm. Compared with the prior \\nstudy (images reviewed) of ___ the findings are similar.  \\n \\nBrief Hospital Course:\\nPRINCIPLE REASON FOR ADMISSION:\\nMrs. ___ is a ___ year-old lady extensive stage SCLC and \\npancreatic cancer who is admitted with chronic abdominal pain. \\nHer stay has been complicated by multiple episodes of \\nasymptomatic accelerated atrial fibrillation, hospital acquired \\npneumonia and worsening severe malnutrition with subsequent \\nfeeding tube placement.  No satisfactory answer was found to her \\npain, and it was refractory through nerve block and high doses \\nof opioid pain medications. CT torso shows progressive \\nmetastatic disease burden.\\n\\nAfter discussion with patient, her family, palliative care, and \\nprimary oncology team, we have decided to transition patient to \\npalliative focused care with discharge to home hospice.\\n\\n# Chronic abdominal pain: Although there is no clear etiology \\nfor her pain, may be related to prior pancreaticresection on \\n___ with recent worsening due to increasing intraabdominal \\ntumor burden. Exam is generally unremarkable and CT showed no \\nobvious new cause of pain. She has had no benefit with very high \\ndoses of opioids earlier in hospital stay, which caused \\nsignificant mental status changes. \\n\\nWe are discharging with dilaudid at 1mg q3 hours prn and would \\nencourage complementary and alternative pain treatments. \\n\\n# Severe protein-calorie malnutrition:\\n# Aspiration: Significant weight loss.\\nPoor PO intake >4 weeks and sarcopenia on exam. Nutrition \\nrecommended tube feeds. Initial conservative plan with \\ndronabinol to stimulate appetite and nutritional supplements \\nfailed due to continued weight loss. On ___ dobhoff tube was \\nplaced and tube feeds were started. Received several days of \\nthiamine and no sign of refeeding syndrome, although did have \\naspiration. After discussion with patient and family, have DC'd \\nTF's prior to discharge to hospice.\\n\\n# Diarrhea: Intermittent problem during hospitalization. Some \\nelement of pancreatic insufficiency and prior history of IBS. \\nExacerbated after starting TF's, and has continued since \\nstopping them on ___. Was  receiving standing mag oxide, \\nmiralax, and metoclopramide, which have been stopped. We also \\nstopped her Movantik. CDiff on ___ was negative. Recommend \\nsymptomatic treatment with loperamide as needed.\\n\\n# Rapid Atrial Fibrillation\\n# Hypotension: During admission had 4 trigger events for \\naccelerated AF ___ @ ___, ___ @ ___ @ \\n2341, ___ @ 1147)all of them asymptomatic and without \\ncorrelation with significant decompensation. Loaded with digoxin \\nand continued on home metoprolol succinate 100mg bid. On ___ had \\nepisode in which diltiazem likely caused hypotension but patient \\nremained clinically perfused and with normal lactate, as \\ndiltiazem was held her BPs recovered but she went into \\naccelerated AF again on ___ in AM was loaded with digoxin again \\nas level <0.4 and maintenance dose was increased. Level now at \\ngoal at 0.7. Plan to continue metoprolol 200mg daily (100 XL \\nbid) and digoxin maintenance dose 0.125mg daily for now. Would \\ncontinue to monitor need for these medicines as her cancer \\nprogresses. We did stop her apixiban on discharge given risk of \\nfall.\\n\\n# Healthcare associated pneumonia: Patient presented with new \\ncough and accelerated AF, leukocytosis and thrombocytosis. CXR \\nshowed patchy opacity in RLL. No hypoxia or hemodynamic \\ninstability. Completed Levofloxacin 750mg daily x5d. \\n\\n# Extensive Stage Small Cell Lung Cancer\\nReceived C1D15 Nivolumab ___. CT showed progressive disease. \\nNo further plans for cancer directed care and she is transition \\nto hospice.\\n\\n# Pancreatic Cancer: S/p resection. Completed  6 gemcitabine in \\n___. No evidence of recurrence. Substituted creon for home \\nzenpep in house.\\n\\n# Dysuria: Resolved. Urine culture ___ with mixed flora, ___\\nculture was negative.\\n\\n# Billing: >30 minutes spent executing and coordinating this \\ndischarge plan\\n\\nTRANSITIONAL ISSUES:\\n- Started digoxin 125mccg daily and increased metoprolol to \\n100mg daily due to recurrent atrial fibrillation. Monitor for \\ns/s of digoxin toxicity as her cancer progresses and consider \\nstopping digoxin empirically or monitoring levels as needed\\n- Have stopped apixiban this admission (as was for stroke ppx in \\nafib)\\n- Prior trials of high levels of IV opioids, including PCA did \\nnot provide significant relief but did cause encephaloopathy\\n \\nMedications on Admission:\\nThe Preadmission Medication list is accurate and complete.\\n1. Acetaminophen 1000 mg PO Q8H:PRN Pain - Mild \\n2. Apixaban 5 mg PO BID \\n3. BuPROPion (Sustained Release) 150 mg PO QAM \\n4. HYDROmorphone (Dilaudid) ___ mg PO Q4H:PRN Pain - Severe \\n5. LORazepam 0.5 mg PO Q8H:PRN anxiety \\n6. Metoprolol Succinate XL 25 mg PO DAILY \\n7. Omeprazole 20 mg PO DAILY \\n8. Simethicone 80 mg PO QID:PRN bloating/gas \\n9. Sodium Chloride 1 gm PO DAILY \\n10. Ondansetron 8 mg PO Q8H:PRN Nausea \\n11. Zenpep (lipase-protease-amylase) 25,000-85,000- 136,000 unit \\noral TID W/MEALS \\n12. HYDROmorphone (Dilaudid) 12 mg PO Q12H \\n13. Metoclopramide 5 mg PO TID \\n14. Movantik (naloxegol) 25 mg oral DAILY \\n\\n \\nDischarge Medications:\\n1.  Bisacodyl 10 mg PO/PR DAILY:PRN constipation \\nRX *bisacodyl [Dulcolax (bisacodyl)] 5 mg 2 tablet(s) by mouth \\ndaily Disp #*60 Tablet Refills:*0 \\n2.  Diazepam 5 mg PO BID \\nRX *diazepam 5 mg 1 tab by mouth twice a day Disp #*14 Tablet \\nRefills:*0 \\n3.  Digoxin 0.125 mg PO DAILY \\nRX *digoxin [Digox] 125 mcg 1 tablet(s) by mouth daily Disp #*30 \\nTablet Refills:*0 \\n4.  GuaiFENesin ___ mL PO Q6H:PRN cough \\nRX *guaifenesin 100 mg/5 mL 5 mL by mouth q6 hours Refills:*0 \\n5.  HYDROmorphone (Dilaudid) 1 mg PO Q3H:PRN Pain - Moderate \\nRX *hydromorphone [Dilaudid] 2 mg 0.5 (One half) tablet(s) by \\nmouth q3 hours Disp #*28 Tablet Refills:*0 \\n6.  LOPERamide 2 mg PO QID:PRN diarrhea \\nRX *loperamide 2 mg 1 tab by mouth four times a day Disp #*120 \\nCapsule Refills:*0 \\n7.  Mirtazapine 30 mg PO QHS \\nRX *mirtazapine 30 mg 1 tablet(s) by mouth at bedtime Disp #*30 \\nTablet Refills:*0 \\n8.  Multivitamins W/minerals 1 TAB PO DAILY \\nRX *multivitamin,tx-minerals  1 capsule(s) by mouth daily Disp \\n#*30 Capsule Refills:*0 \\n9.  Polyethylene Glycol 17 g PO DAILY:PRN Constipation  \\n10.  Senna 8.6 mg PO BID:PRN Constipation \\nRX *sennosides [senna] 8.6 mg 1 tab by mouth twice a day Disp \\n#*60 Tablet Refills:*0 \\n11.  Metoprolol Succinate XL 100 mg PO BID \\nRX *metoprolol succinate 100 mg 1 tablet(s) by mouth twice a day \\nDisp #*60 Tablet Refills:*0 \\n12.  Acetaminophen 1000 mg PO Q8H:PRN Pain - Mild \\nRX *acetaminophen [Acetaminophen Extra Strength] 500 mg 2 \\ntablet(s) by mouth q8 hours Disp #*120 Tablet Refills:*0 \\n13.  LORazepam 0.5 mg PO Q8H:PRN anxiety \\nRX *lorazepam [Ativan] 0.5 mg 1 tab by mouth q8 hours Disp #*21 \\nTablet Refills:*0 \\n14.  Omeprazole 20 mg PO DAILY \\nRX *omeprazole 20 mg 1 capsule(s) by mouth daily Disp #*30 \\nCapsule Refills:*0 \\n15.  Ondansetron 8 mg PO Q8H:PRN Nausea \\nRX *ondansetron 8 mg 1 tablet(s) by mouth q8 hours Disp #*21 \\nTablet Refills:*0 \\n16.  Simethicone 80 mg PO QID:PRN bloating/gas \\nRX *simethicone [Gas Relief] 80 mg 1 tab by mouth four times a \\nday Disp #*60 Tablet Refills:*0 \\n17.  Zenpep (lipase-protease-amylase) 25,000-85,000- 136,000 \\nunit oral TID W/MEALS \\nRX *lipase-protease-amylase [Zenpep] 25,000 unit-85,000 \\nunit-136,000 unit 1 capsule(s) by mouth three times a day Disp \\n#*90 Capsule Refills:*0 \\n\\n \\nDischarge Disposition:\\nHome With Service\\n \\nFacility:\\n___\\n \\nDischarge Diagnosis:\\n# Abdominal pain\\n# Extensive stage small cell lung cancer\\n# Pancreatic cancer\\n# Severe malnutrition\\n# Atrial fibrillation\\n\\n \\nDischarge Condition:\\nMental Status: Clear and coherent.\\nLevel of Consciousness: Alert and interactive.\\nActivity Status: Ambulatory - requires assistance or aid (walker \\nor cane).\\n\\n \\nDischarge Instructions:\\nDear Ms. ___,\\n\\nIt was a pleasure taking care of you at ___ \\n___. You were admitted with your abdominal pain. \\nAfter extensive evaluation and trialing many different \\ntreatments, including a nerve block, artificial nutrition, and \\ndiffering amounts of pain medications, we could not find a \\nsatisfactory cause or treatment of your pain. Your hospital \\ncourse was complicated by several episodes of a fast heart rate, \\ncalled Atrial fibrillation, which we controlled with new \\nmedications. We do know that your cancer is growing, and after \\ndiscussion with your and your family, we agreed further cancer \\ndirected care wasn't what you wanted. We have arranged for you \\nto return home to spend time with your friends and family \\noutside of the hospital with hospice services. We wish you all \\nthe best.\\n\\nSincerely,\\nYour ___ Care Team\\n \\nFollowup Instructions:\\n___\\n\""
            ],
            "application/vnd.google.colaboratory.intrinsic+json": {
              "type": "string"
            }
          },
          "metadata": {},
          "execution_count": 16
        }
      ]
    },
    {
      "cell_type": "code",
      "source": [
        "note = file_content\n",
        "qa_prompt_var1 = f\"\"\"\\\n",
        "Your job is to decide which of the following inclusion criteria the given patient meets.\n",
        "Below is a clinical note describing the patient's current health status:\n",
        "---------------------\n",
        "{note}\n",
        "---------------------\n",
        "The inclusion criteria being assessed is listed below:\n",
        "Permanent, paroxysmal, or persistent afib\n",
        "---------------------\n",
        "For the criteria above, use the patient's clinical note to determine whether the patient meets each criteria. Think step by step, and\n",
        "justify your answer.\n",
        "Format your response as a variable with following type:\n",
        "* Permanent, paroxysmal, or persistent afib: int , 1 if present, 0  if not present, -1 if no history to tell\n",
        "\n",
        "\n",
        "An example of how your  response should be formatted is shown below:\n",
        "\n",
        "Permanent, paroxysmal, or persistent afib: 1/0/-1\n",
        "\n",
        "\n",
        "The above example is only for illustration purposes only. It does not reflect the actual criteria or patient for this task.\n",
        "Please analyze the given patient and inclusion criteria. Remember to include  inclusion criteria in your returned response. Please\n",
        "provide your response:\n",
        "\"\"\""
      ],
      "metadata": {
        "id": "XwoWWPNnsO93"
      },
      "execution_count": null,
      "outputs": []
    },
    {
      "cell_type": "code",
      "source": [
        "# qa_prompt_var1"
      ],
      "metadata": {
        "id": "P1PGu-DN6ekY"
      },
      "execution_count": null,
      "outputs": []
    },
    {
      "cell_type": "code",
      "source": [
        "# question_answer(qa_prompt_var1)"
      ],
      "metadata": {
        "id": "rUBNtyJB3wCK"
      },
      "execution_count": null,
      "outputs": []
    },
    {
      "cell_type": "code",
      "source": [
        "input_text = qa_prompt_var1\n",
        "\n",
        "# Encode the context using the tokenizer and move it to the GPU\n",
        "input_ids = tokenizer.encode(input_text, return_tensors=\"pt\")\n",
        "\n",
        "# Generate text using the model, providing both context and question\n",
        "answer = model.generate(input_ids, temperature=0.07, max_new_tokens=5)\n",
        "\n",
        "# Decode the generated answer and remove special tokens\n",
        "decoded_answer = tokenizer.decode(answer[0], skip_special_tokens=True)\n"
      ],
      "metadata": {
        "id": "DbBeV4QL848c"
      },
      "execution_count": null,
      "outputs": []
    },
    {
      "cell_type": "code",
      "source": [
        "final_answer = decoded_answer.split('provide your response:')[1].strip()\n",
        "# Print the final answer\n",
        "print(final_answer)"
      ],
      "metadata": {
        "colab": {
          "base_uri": "https://localhost:8080/"
        },
        "id": "fvlh36n1-Wgb",
        "outputId": "074844c6-7bd8-45a9-de8b-5629f9418418"
      },
      "execution_count": null,
      "outputs": [
        {
          "output_type": "stream",
          "name": "stdout",
          "text": [
            "Permanent,\n"
          ]
        }
      ]
    },
    {
      "cell_type": "code",
      "source": [
        "if final_answer == 'Permanent,':\n",
        "    print(1)"
      ],
      "metadata": {
        "colab": {
          "base_uri": "https://localhost:8080/"
        },
        "id": "Tohiwe6zLyLZ",
        "outputId": "b5e80609-7757-4fce-c62e-dfbb8712dd91"
      },
      "execution_count": null,
      "outputs": [
        {
          "output_type": "stream",
          "name": "stdout",
          "text": [
            "1\n"
          ]
        }
      ]
    }
  ]
}